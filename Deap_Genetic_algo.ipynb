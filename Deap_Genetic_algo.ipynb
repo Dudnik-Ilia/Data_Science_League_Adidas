{
  "nbformat": 4,
  "nbformat_minor": 0,
  "metadata": {
    "colab": {
      "provenance": []
    },
    "kernelspec": {
      "name": "python3",
      "display_name": "Python 3"
    },
    "language_info": {
      "name": "python"
    }
  },
  "cells": [
    {
      "cell_type": "code",
      "source": [
        "import pandas as pd\n",
        "from joblib import load\n",
        "from tqdm import tqdm\n",
        "from deap import base, creator, tools, algorithms\n",
        "import numpy as np\n",
        "import random"
      ],
      "metadata": {
        "id": "_cIwtgw3jUUv"
      },
      "execution_count": null,
      "outputs": []
    },
    {
      "cell_type": "code",
      "source": [
        "adidas_data = pd.read_csv('AdidasMatchday20240419.csv')\n",
        "\n",
        "loaded_pipeline = load('my_pipeline.joblib')"
      ],
      "metadata": {
        "id": "k27v04XphmVF"
      },
      "execution_count": null,
      "outputs": []
    },
    {
      "cell_type": "code",
      "source": [
        "# Class for scoring a sample consisting of:\n",
        "# 2 categories (sport, sex) and 6 measurements\n",
        "class Score:\n",
        "    def __init__(self, pipeline):\n",
        "        self.pipeline = pipeline\n",
        "\n",
        "    def __call__(self, category, genders, measurements):\n",
        "        df = pd.DataFrame(measurements, columns=[\n",
        "            'insole_length', 'ball_girth', 'ball_width',\n",
        "            'heel_width', 'toe_height', 'heel_spring'\n",
        "        ])\n",
        "\n",
        "        df['sports_categories'] = category\n",
        "        df['gender_last'] = genders\n",
        "\n",
        "        return self.pipeline.predict(df)\n",
        "\n",
        "\n",
        "scorer = Score(loaded_pipeline)\n",
        "scorer(['Football'], ['Female'], [[277.4, 254.0, 95.7, 69.5, 27.4, 5.0]])"
      ],
      "metadata": {
        "colab": {
          "base_uri": "https://localhost:8080/"
        },
        "id": "JE9b6_pRYGS5",
        "outputId": "161679a3-3760-41d7-d2fb-9d61ba15427d"
      },
      "execution_count": null,
      "outputs": [
        {
          "output_type": "execute_result",
          "data": {
            "text/plain": [
              "array([0.15119873], dtype=float32)"
            ]
          },
          "metadata": {},
          "execution_count": 5
        }
      ]
    },
    {
      "cell_type": "code",
      "source": [
        "# Define the assessment function\n",
        "def assessment_function(individual: list):\n",
        "  \"\"\"\n",
        "  individual: list of 6 numbers representing measurements\n",
        "  sex+sport: str, that are defined in environment further\n",
        "  \"\"\"\n",
        "  return scorer([sport], [sex], [individual])\n",
        "\n",
        "# We want to minimize the loss --> negative weight\n",
        "creator.create(\"FitnessMin\", base.Fitness, weights=(-1.0,))\n",
        "creator.create(\"Individual\", list, fitness=creator.FitnessMin)\n",
        "\n",
        "toolbox = base.Toolbox()\n",
        "\n",
        "# Define a range for each feature and corresponding step size\n",
        "feature_ranges = {\n",
        "    'insole_length': [(230, 310),0.1],\n",
        "    'ball_girth': [(200, 280),0.5],\n",
        "    'ball_width': [(70, 110),0.1],\n",
        "    'heel_width': [(45, 78),0.5],\n",
        "    'toe_height': [(15, 40),0.1],\n",
        "    'heel_spring': [(0.5, 25),0.5]\n",
        "}\n",
        "\n",
        "# Define a function to generate random values for each feature within its specified range\n",
        "def generate_feature(feature_name, feature_range):\n",
        "  ran, step = feature_range\n",
        "  start, stop = ran\n",
        "  num_elements = int((stop - start) / step)+1\n",
        "  random_sample = start + step * random.randint(0, num_elements)\n",
        "  return random_sample\n",
        "\n",
        "# Register the feature generator function with DEAP\n",
        "for feature_name, feature_range in feature_ranges.items():\n",
        "    toolbox.register(\"attr_\" + feature_name, generate_feature, feature_name, feature_range)\n",
        "\n",
        "toolbox.register(\"individual\", tools.initCycle, creator.Individual,\n",
        "                 (toolbox.attr_insole_length, toolbox.attr_ball_girth,\n",
        "                  toolbox.attr_ball_width, toolbox.attr_heel_width,\n",
        "                  toolbox.attr_toe_height, toolbox.attr_heel_spring), n=1)"
      ],
      "metadata": {
        "id": "OEmeWKyVI3vK"
      },
      "execution_count": null,
      "outputs": []
    },
    {
      "cell_type": "code",
      "source": [
        "toolbox.register(\"population\", tools.initRepeat, list, toolbox.individual)\n",
        "\n",
        "toolbox.register(\"evaluate\", assessment_function)\n",
        "toolbox.register(\"mate\", tools.cxTwoPoint)\n",
        "toolbox.register(\"mutate\", tools.mutGaussian, mu=0, sigma=3, indpb=0.1)\n",
        "toolbox.register(\"select\", tools.selTournament, tournsize=3)"
      ],
      "metadata": {
        "id": "rq0hOs9nMXtC"
      },
      "execution_count": null,
      "outputs": []
    },
    {
      "cell_type": "code",
      "source": [
        "# Genetic algorithm parameters\n",
        "P_S = 1000\n",
        "NGEN = 1000  # Number of generations\n",
        "CXPB = 0.5  # Crossover probability\n",
        "MUTPB = 0.2  # Mutation probability"
      ],
      "metadata": {
        "id": "4kOrA6r1OLWR"
      },
      "execution_count": null,
      "outputs": []
    },
    {
      "cell_type": "code",
      "source": [
        "result = dict()\n",
        "\n",
        "sex = \"Female\"\n",
        "sport = \"Running\"\n",
        "\n",
        "population = toolbox.population(n=P_S)\n",
        "\n",
        "for gen in tqdm(range(NGEN)):\n",
        "    offspring = algorithms.varAnd(population, toolbox, cxpb=CXPB, mutpb=MUTPB)\n",
        "    fits = toolbox.map(toolbox.evaluate, offspring)\n",
        "    for fit, ind in zip(fits, offspring):\n",
        "        ind.fitness.values = (fit,)\n",
        "    population = toolbox.select(offspring, len(population))\n",
        "\n",
        "best_ind = tools.selBest(population, 1)[0]\n",
        "print(sex, sport)\n",
        "print(best_ind, best_ind.fitness.values)\n",
        "\n",
        "result[(sex,sport)] = best_ind"
      ],
      "metadata": {
        "colab": {
          "base_uri": "https://localhost:8080/"
        },
        "id": "6tNpMTneIqp7",
        "outputId": "04363ee4-bd48-4b4c-e503-89422f97507a"
      },
      "execution_count": null,
      "outputs": [
        {
          "output_type": "stream",
          "name": "stderr",
          "text": [
            "100%|████████████████████████████████████████████████████████████████████████████| 1000/1000 [1:07:49<00:00,  4.07s/it]"
          ]
        },
        {
          "output_type": "stream",
          "name": "stdout",
          "text": [
            "Female Running\n",
            "[278.6, 240.65877151510045, 94.4286911463292, 69.0, 25.8, 8.5] (array([0.04790571], dtype=float32),)\n"
          ]
        },
        {
          "output_type": "stream",
          "name": "stderr",
          "text": [
            "\n"
          ]
        }
      ]
    },
    {
      "cell_type": "code",
      "source": [
        "result"
      ],
      "metadata": {
        "id": "-a5qejB-zEXm",
        "outputId": "76f6a9f6-23ab-4850-a9f4-c3117dcd4892",
        "colab": {
          "base_uri": "https://localhost:8080/"
        }
      },
      "execution_count": null,
      "outputs": [
        {
          "output_type": "execute_result",
          "data": {
            "text/plain": [
              "{('Female', 'Running'): [278.6,\n",
              "  240.65877151510045,\n",
              "  94.4286911463292,\n",
              "  69.0,\n",
              "  25.8,\n",
              "  8.5]}"
            ]
          },
          "metadata": {},
          "execution_count": 13
        }
      ]
    },
    {
      "cell_type": "markdown",
      "source": [
        "And also the same for each other **tuple(sex,sport)**\n",
        "\n",
        "We split search between our computing power units (including couple of AWS) and manually entered result values"
      ],
      "metadata": {
        "id": "-9tH_xBusRcN"
      }
    }
  ]
}