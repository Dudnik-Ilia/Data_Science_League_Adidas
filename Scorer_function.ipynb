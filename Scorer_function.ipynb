{
  "cells": [
    {
      "cell_type": "code",
      "execution_count": null,
      "id": "c58ab304",
      "metadata": {
        "id": "c58ab304"
      },
      "outputs": [],
      "source": [
        "import pandas as pd\n",
        "import xgboost\n",
        "from sklearn.model_selection import train_test_split, StratifiedKFold, RandomizedSearchCV\n",
        "from sklearn.compose import ColumnTransformer\n",
        "from sklearn.preprocessing import OneHotEncoder, StandardScaler\n",
        "from sklearn.pipeline import Pipeline\n",
        "from scipy.stats import entropy, randint, uniform\n",
        "from joblib import dump"
      ]
    },
    {
      "cell_type": "code",
      "execution_count": null,
      "id": "bc4aeb04",
      "metadata": {
        "id": "bc4aeb04"
      },
      "outputs": [],
      "source": [
        "adidas_data = pd.read_csv('AdidasMatchday20240419.csv')\n",
        "\n",
        "categorical_features = ['sports_categories', 'gender_last']\n",
        "numerical_features = ['insole_length', 'ball_girth', 'ball_width', 'heel_width', 'toe_height', 'heel_spring']\n",
        "\n",
        "# Create a target variable as mean between too_large and too_small return rates\n",
        "adidas_data['target'] = adidas_data[['too_large', 'too_small']].mean(axis=1)\n",
        "# Create a strata column combining both categorical columns\n",
        "# to preserve percentage in cross validation\n",
        "adidas_data['strata'] = adidas_data['sports_categories'] + \"_\" + adidas_data['gender_last']"
      ]
    },
    {
      "cell_type": "code",
      "execution_count": null,
      "id": "6a4a3e20",
      "metadata": {
        "id": "6a4a3e20"
      },
      "outputs": [],
      "source": [
        "skf = StratifiedKFold(n_splits=3, random_state=42, shuffle=True)\n",
        "\n",
        "preprocessor = ColumnTransformer(\n",
        "    transformers=[\n",
        "        ('num', StandardScaler(), numerical_features),\n",
        "        ('cat', OneHotEncoder(), categorical_features)\n",
        "    ])"
      ]
    },
    {
      "cell_type": "code",
      "execution_count": null,
      "id": "ed5668bb",
      "metadata": {
        "id": "ed5668bb"
      },
      "outputs": [],
      "source": [
        "param_dist = {\n",
        "    'xgb_classifier__n_estimators': randint(50, 500),\n",
        "    'xgb_classifier__max_depth': randint(3, 10),\n",
        "    'xgb_classifier__max_leaves': randint(0, 256),\n",
        "    'xgb_classifier__tree_method': ['hist', 'approx', 'exact'],\n",
        "    'xgb_classifier__learning_rate': uniform(0.01, 0.2),\n",
        "    'xgb_classifier__gamma': uniform(0, 0.5),\n",
        "    'xgb_classifier__min_child_weight': randint(1, 10),\n",
        "    'xgb_classifier__max_delta_step': randint(0, 10),\n",
        "    'xgb_classifier__colsample_bytree': uniform(0.3, 0.7),\n",
        "    'xgb_classifier__colsample_bylevel': uniform(0.3, 0.7),\n",
        "    'xgb_classifier__colsample_bynode': uniform(0.3, 0.7),\n",
        "}\n"
      ]
    },
    {
      "cell_type": "code",
      "execution_count": null,
      "id": "a5e5d6b7",
      "metadata": {
        "id": "a5e5d6b7"
      },
      "outputs": [],
      "source": [
        "# Objective: logistic regression, output probability\n",
        "xgb_classifier = xgboost.XGBRegressor(\n",
        "    objective='reg:logistic',\n",
        ")\n",
        "\n",
        "pipeline = Pipeline([\n",
        "    ('preprocessor', preprocessor),\n",
        "    ('xgb_classifier', xgb_classifier)\n",
        "])"
      ]
    },
    {
      "cell_type": "code",
      "execution_count": null,
      "id": "67dbb26c",
      "metadata": {
        "id": "67dbb26c"
      },
      "outputs": [],
      "source": [
        "# Setting up randomized fine-tuning with negative MAPE\n",
        "random_search = RandomizedSearchCV(pipeline, n_iter=50000,\n",
        "                                   param_distributions=param_dist,\n",
        "                                   scoring='neg_mean_absolute_percentage_error',\n",
        "                                   cv=skf.split(adidas_data, adidas_data['strata']),\n",
        "                                   verbose=1, random_state=42, n_jobs=10)\n",
        "\n",
        "random_search.fit(adidas_data.drop(columns='target'), adidas_data['target'])\n",
        "\n",
        "print(\"Best parameters:\", random_search.best_params_)\n",
        "print(\"Best score (neg MAPE):\", random_search.best_score_)"
      ]
    },
    {
      "cell_type": "code",
      "execution_count": null,
      "id": "b6dd9bda",
      "metadata": {
        "id": "b6dd9bda",
        "outputId": "931bda99-a8d0-42a2-9386-e2e144573872"
      },
      "outputs": [
        {
          "data": {
            "text/plain": [
              "make_scorer(mean_absolute_percentage_error, greater_is_better=False)"
            ]
          },
          "execution_count": 187,
          "metadata": {},
          "output_type": "execute_result"
        }
      ],
      "source": [
        "random_search.scorer_\n",
        "print(\"Best parameters:\", random_search.best_params_)\n",
        "print(\"Best score (neg MAPE):\", random_search.best_score_)\n",
        "\n",
        "pipeline.set_params(**random_search.best_params_)\n",
        "pipeline.fit(adidas_data.drop(columns='target'), adidas_data['target'])\n",
        "\n",
        "# Save the model\n",
        "dump(pipeline, 'my_pipeline.joblib')"
      ]
    }
  ],
  "metadata": {
    "kernelspec": {
      "display_name": "Python 3 (ipykernel)",
      "language": "python",
      "name": "python3"
    },
    "language_info": {
      "codemirror_mode": {
        "name": "ipython",
        "version": 3
      },
      "file_extension": ".py",
      "mimetype": "text/x-python",
      "name": "python",
      "nbconvert_exporter": "python",
      "pygments_lexer": "ipython3",
      "version": "3.10.10"
    },
    "colab": {
      "provenance": []
    }
  },
  "nbformat": 4,
  "nbformat_minor": 5
}